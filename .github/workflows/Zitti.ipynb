from datetime import *
//Declaring required variables
newsDate = 0
roomTime = '25/05/99 02:35:5.523'
shoppingList = []
flag=False 
question=""

//introductory statement for Zitti
print("Hello! I am Zitti. How can I help you?(You can enter 'exit' to exit anytime)\n")

//converting time to minutes so that the time passed since last cleaning the room is accurate
def ConvertToMinutes(x):
    hour=x.hour
    minute=x.minute
    seconds=x.second
    minutes=int((((hour*60)*60)+(minute*60)+seconds)/60)
    return minutes

//loop to accept question until the user decides to stop
while(question!="exit"):
    
    #taking user input
    question = input(" ")
    
    #condition for question being "Hey. How are you?"
    if question=="Hey. How are you?":
        print("Hello I'm doing great\n")
        
    //condition to handle "Clean my room" question
    elif question=="Clean my room.":
        time_str = str(roomTime)
        date_format_str = '%d/%m/%y %H:%M:%S.%f'
        given_time = datetime.strptime(time_str, date_format_str) #formatting datetime to be able to add minutes to it
        if roomTime=='25/05/99 02:35:5.523':
            roomTime=datetime.now()
            print(f"Room is cleaned. It looks tidy now. Job completed at {roomTime.time()}\n",)
            roomTime = roomTime.strftime(date_format_str) #converting current time to the format for comparison
            time_str = str(roomTime)
            given_time = datetime.strptime(time_str, date_format_str)
            temp= given_time + timedelta(minutes=10) #calculating the time ten minutes from the current time
            temptime=temp.time()
        elif (datetime.now()).time() < temptime:
            print(f"The room was just cleaned { abs((ConvertToMinutes(datetime.now().time())) - (ConvertToMinutes(given_time)))} minute(s) ago. I hope it's not dirty\n")
        else:
            roomTime=datetime.now()
            print(f"Room is cleaned. It looks tidy now. Job completed at {roomTime.time()}\n",)
            roomTime = roomTime.strftime(date_format_str)
            time_str = str(roomTime)
            given_time = datetime.strptime(time_str, date_format_str)
            temp= given_time + timedelta(minutes=10)
            temptime=temp.time()
            
    //condition to handle "Fetch the newspaper." question
    elif  question=="Fetch the newspaper.":
        if newsDate==0:
            newsDate=date.today()
            print("Here is your newspaper.\n")
        elif date.today() == newsDate:
            print("I think you don't get another newspaper the same day\n")
        else:
            print("Here is your newspaper.\n")
            newsDate=date.today()
    
    //condition to handle displaying of shopping list
    elif question=="Read my shopping list.":
        if not shoppingList:
            print("You have no items in your shopping list\n")
        else:
            print("Here is your shopping list. ",end="")
            for item in shoppingList:
                if shoppingList[-1]==item:
                    print(f"{item}. ",end="")
                else:
                    print(f"{item}, ",end="")
            print("\n")
    
    //condition to handle adding items to shopping list
    elif question.find("Add")>-1:
        shoppingString=question.split(" ")
        for n in shoppingList:
            if n==shoppingString[1]:
                flag=True
        if flag==False:
            shoppingList.append(shoppingString[1])
            print(f"{shoppingString[1]} added to your shopping list\n")
        else:
            print(f"You already have {shoppingString[1]} in your shopping list\n",)
        flag=False
    
    //condition to handle the question about the weather
    elif question=="How's the weather outside?":
        print("It's pleasant outside. You should take a walk.\n")
    
    //breaks out of loop if user wishes to exit
    elif question=="exit":
        break
    
    //condition to handle unknown questions
    else:
        print("Hmm.. I don't know that\n")
        


    
                
