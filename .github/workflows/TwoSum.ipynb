def TwoSum(nums, target):
    num1=0
    num2=0
    for i in range(0,len(nums)):
        if num1 !=0 and num2!=0:
                break
        for j in range(0,len(nums)):
            if(i==j):
                continue;
            elif nums[i]+nums[j]==target:
                num1=i
                num2=j
                break;
            else:
                continue;
    return num1,num2

ind1,ind2=TwoSum([1,2,3,4,5], 7)
print(f"[{ind1},{ind2}]")
        
        
    
    
