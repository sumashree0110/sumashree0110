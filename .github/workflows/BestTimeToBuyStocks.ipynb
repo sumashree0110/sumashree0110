def Stock(prices):
    BuyingPrice=prices[0]
    BuyingDay=0
    SellingPrice=0
    for i in prices:
        if i<BuyingPrice:
            BuyingPrice=i
            BuyingDay=prices.index(i)
    for j in range(BuyingDay,len(prices)):
        if prices[j]>SellingPrice:
            SellingPrice=prices[j]
    profit=SellingPrice-BuyingPrice
    return profit

solution = Stock([7,6,4,3,1])
print(solution)
